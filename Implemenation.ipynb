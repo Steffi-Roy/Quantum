%matplotlib inline
# Importing standard Qiskit libraries and configuring account
from qiskit import QuantumCircuit, execute, Aer, IBMQ
from qiskit.compiler import transpile, assemble
from qiskit.tools.jupyter import *
from qiskit.visualization import *

from qiskit import Aer, ClassicalRegister, execute, QuantumCircuit, QuantumRegister
from qiskit.tools.monitor import job_monitor


from qiskit import QuantumRegister, QuantumCircuit, ClassicalRegister, execute
from qiskit.circuit import Parameter
from qiskit import Aer
from matplotlib import pyplot as plt
import numpy as np


# Loading your IBM Q account(s)
provider = IBMQ.load_account()
#Use this function to generate random numbers on a quantum simulator.
#It’s faster than waiting in a queue for real hardware.
def quniform(min, max):
    range = max - min
    qaddend = range * qmeasure('sim')
    qsum = qaddend + min
    return qsum

def qquniform(min, max):    #Use this function to generate truly-random numbers on an actual quantum computer.
    range = max - min
    qaddend = range * qmeasure('real')
    qsum = qaddend + min
    return qsum

def qmeasure(hardware):
    if (hardware == 'real'):
        qubits = 14
        #from qiskit.providers.ibmq import least_busy
        #backend = least_busy(IBMQ.backends())
        provider = IBMQ.get_provider(hub='ibm-q')
        provider.backends()
        backend = provider.get_backend('ibmq_16_melbourne')   #to use the least busy quantum computer
    else:
        qubits = 32
        backend = Aer.get_backend('qasm_simulator')
        
    q = QuantumRegister(qubits) # initialize all available quantum registers (qubits)
    c = ClassicalRegister(qubits) # initialize classical registers to measure the qubits
    qc = QuantumCircuit(q, c) # initialize the circuit

    i = 0
    while i < qubits:
        qc.h(q[i]) # put all qubits into superposition states so that each will measure as a 0 or 1 completely at random
        i = i + 1
   
    qc.measure(q, c) # collapse the superpositions and get random zeroes and ones
    job = execute(qc, backend=backend, shots=1)
    job_monitor(job)
    result = job.result()
    mraw = result.get_counts(qc)
    m = str(mraw)
    subtotal = 0
    for i in range(qubits):
        subtotal = subtotal + (int(m[i+2]) * 2**(i)) # convert each binary digit to its decimal value, but read left-to-right for simplicity
    multiplier = subtotal / (2**qubits) # convert the measurement to a value between 0 and 1
    return multiplier



from numpy import exp, array, random, dot
import numpy as np

class NeuralNetwork():
    
    def __init__(self):
        
        #converting weights to a 3 by 1 matrix with values from -1 to 1 and mean of 0
        self.weights = []
        self.weights.append([qquniform(-1, 1)])
        self.weights.append([qquniform(-1, 1)])
        self.weights.append([qquniform(-1, 1)])

        print("self.weights ",self.weights)

    def sigmoid(self, x):
        #applying the sigmoid function
        return 1 / (1 + np.exp(-x))

    def sigmoid_derivative(self, x):
        #computing derivative to the Sigmoid function
        return x * (1 - x)

    def train(self, training_inputs, training_outputs, training_iterations):
        
        #training the model to make accurate predictions while adjusting weights continually
        for iteration in range(training_iterations):
            #siphon the training data via  the neuron
            output = self.think(training_inputs)

            #computing error rate for back-propagation
            error = (training_outputs - output)
            
            #performing weight adjustments
            adjustments = np.dot(training_inputs.T, error * self.sigmoid_derivative(output))

            self.weights += adjustments

    def think(self, inputs):
        #passing the inputs via the neuron to get output   
        #converting values to floats
        
        inputs = inputs.astype(float)
        output = self.sigmoid(np.dot(inputs, self.weights))
        return output


if __name__ == "__main__":

    #initializing the neuron class
    neural_network = NeuralNetwork()

    print("Beginning Randomly Generated Weights: ")
    print("self.weights ",self.weights)
    #training data consisting of 200 examples--3 input values and 1 output
   
  
    training_inputs = np.array([[0.2776, 0.3001, 10.38], [0.07864, 0.0869, 17.77], [0.1599, 0.1974, 21.25], [0.2839, 0.2414, 20.38], [0.1328, 0.198, 14.34], [0.17, 0.1578, 15.7], [0.109, 0.1127, 19.98], [0.1645, 0.09366, 20.83], [0.1932, 0.1859, 21.82], [0.2396, 0.2273, 24.04], [0.06669, 0.03299, 23.24], [0.1292, 0.09954, 17.89], [0.2458, 0.2065, 24.8], [0.1002, 0.09938, 23.95], [0.2293, 0.2128, 22.61], [0.1595, 0.1639, 27.54], [0.072, 0.07395, 20.13], [0.2022, 0.1722, 20.68], [0.1027, 0.1479, 22.15], [0.08129, 0.06664, 14.36], [0.127, 0.04568, 15.71], [0.06492, 0.02956, 12.44], [0.2135, 0.2077, 14.26], [0.1022, 0.1097, 23.04], [0.1457, 0.1525, 21.38], [0.2276, 0.2229, 16.4], [0.1868, 0.1425, 21.53], [0.1066, 0.149, 20.25], [0.1697, 0.1683, 25.27], [0.1157, 0.09875, 15.05], [0.1887, 0.2319, 25.11], [0.1516, 0.1218, 18.7], [0.1496, 0.2417, 23.98], [0.1719, 0.1657, 26.47], [0.1559, 0.1354, 17.88], [0.1336, 0.1348, 21.59], [0.1098, 0.1319, 21.72], [0.03766, 0.02562, 18.42], [0.05131, 0.02398, 25.2], [0.1255, 0.1063, 20.82], [0.06031, 0.0311, 21.58], [0.1218, 0.1044, 21.35], [0.219, 0.2107, 24.81], [0.1436, 0.09847, 20.28], [0.1047, 0.08259, 21.81], [0.1686, 0.1974, 17.6], [0.05943, 0.01588, 16.84], [0.1231, 0.1226, 18.66], [0.09092, 0.06592, 14.63], [0.07698, 0.04751, 22.3], [0.04966, 0.01657, 21.6], [0.06059, 0.01857, 16.34], [0.04751, 0.01972, 18.24], [0.1485, 0.1772, 18.7], [0.07081, 0.05253, 22.02], [0.05473, 0.03036, 18.75], [0.1267, 0.1323, 18.57], [0.1365, 0.1293, 21.59], [0.03789, 0.000692, 19.31], [0.05272, 0.02061, 11.79], [0.08061, 0.01084, 14.88], [0.08963, 0.03, 20.98], [0.2008, 0.2135, 22.15], [0.08751, 0.05988, 13.86], [0.1262, 0.1128, 23.84], [0.1479, 0.1267, 23.94], [0.07773, 0.02172, 21.01], [0.04701, 0.03709, 19.04], [0.1413, 0.313, 17.33], [0.05234, 0.03653, 16.49], [0.1029, 0.108, 21.31], [0.1531, 0.08606, 14.64], [0.183, 0.1692, 24.52], [0.128, 0.07789, 15.79], [0.06829, 0.03372, 16.52], [0.08424, 0.09769, 19.65], [0.1047, 0.06877, 10.94], [0.2146, 0.1684, 16.15], [0.3454, 0.3754, 23.97], [0.09546, 0.03889, 18], [0.09362, 0.04591, 20.97], [0.1535, 0.1169, 15.86], [0.2665, 0.3339, 24.91], [0.1791, 0.1937, 26.29], [0.07165, 0.04151, 15.65], [0.1053, 0.1335, 18.52], [0.09947, 0.1204, 21.46], [0.1206, 0.1468, 24.59], [0.09445, 0.06015, 21.8], [0.1339, 0.09966, 15.24], [0.08606, 0.03102, 24.02], [0.1036, 0.1122, 22.76], [0.05055, 0.03261, 14.76], [0.08165, 0.03974, 18.3], [0.1553, 0.17, 19.83], [0.1313, 0.1465, 23.03], [0.07057, 0.0249, 17.84], [0.05301, 0.006829, 19.94], [0.07525, 0.04196, 12.84], [0.1141, 0.09388, 19.77], [0.08511, 0.08625, 24.98], [0.07568, 0, 13.43], [0.04038, 0.02383, 20.52], [0.09697, 0.06154, 19.4], [0.08578, 0.02995, 19.29], [0.1765, 0.2071, 15.56], [0.1017, 0.0707, 18.33], [0.06815, 0.02643, 18.54], [0.2768, 0.4264, 19.67], [0.06575, 0.05133, 21.26], [0.08404, 0.04334, 16.99], [0.1209, 0.1065, 20.76], [0.2233, 0.3003, 19.65], [0.1303, 0.06476, 20.19], [0.08201, 0.04132, 15.83], [0.07849, 0.03328, 21.53], [0.1243, 0.09263, 15.76], [0.1649, 0.169, 16.67], [0.1752, 0.2133, 22.91], [0.06722, 0.07293, 20.01], [0.06685, 0.03512, 10.82], [0.11, 0.1457, 17.12], [0.2867, 0.4268, 20.2], [0.1099, 0.08842, 10.89], [0.07325, 0.08092, 16.39], [0.06136, 0.0142, 17.21], [0.07862, 0.05285, 24.69], [0.08028, 0.09271, 18.91], [0.1807, 0.1138, 16.39], [0.1589, 0.2545, 25.12], [0.09509, 0.02855, 13.29], [0.1223, 0.1466, 19.48], [0.1284, 0.1043, 21.54], [0.09462, 0.07135, 13.93], [0.09709, 0.1153, 21.91], [0.05761, 0.04711, 22.47], [0.06095, 0.03592, 16.67], [0.06889, 0.03503, 15.39], [0.1305, 0.1539, 17.57], [0.1136, 0.04635, 13.39], [0.04102, 0, 11.97], [0.1137, 0.09447, 18.05], [0.09486, 0.02031, 17.31], [0.09509, 0.04894, 15.92], [0.05139, 0.02251, 14.97], [0.1296, 0.0371, 14.65], [0.17, 0.1659, 16.58], [0.1167, 0.0905, 18.77], [0.1021, 0.08487, 15.18], [0.06376, 0.02881, 17.91], [0.07589, 0.03136, 20.78], [0.1305, 0.1321, 20.7], [0.1599, 0.4108, 15.34], [0.05113, 0.01982, 13.08], [0.08498, 0.09293, 15.34], [0.06679, 0.03885, 17.94], [0.1665, 0.1855, 20.74], [0.07223, 0.0515, 19.46], [0.05241, 0.01972, 12.74], [0.03718, 0.00309, 12.96], [0.1141, 0.06843, 20.18], [0.1185, 0.1193, 15.94], [0.1666, 0.2508, 18.15], [0.1015, 0.0537, 22.22], [0.1145, 0.1324, 22.04], [0.05352, 0.01947, 19.76], [0.05736, 0.02531, 9.71], [0.09182, 0.08422, 18.8], [0.1603, 0.2159, 24.68], [0.07885, 0.02602, 16.95], [0.06981, 0.03987, 12.39], [0.06288, 0.05858, 19.63], [0.1555, 0.2032, 11.89], [0.05743, 0.02363, 14.71], [0.04302, 0, 15.15], [0.04276, 0, 14.45], [0.1294, 0.1307, 18.06], [0.1556, 0.1793, 20.11], [0.01938, 0.001595, 22.22], [0.03774, 0.009193, 13.06], [0.1914, 0.2871, 21.87], [0.2832, 0.2487, 26.57], [0.08799, 0.06593, 20.31], [0.08155, 0.06181, 14.92], [0.1052, 0.05375, 22.41], [0.04695, 0.001597, 15.11], [0.08468, 0.08169, 18.58], [0.06141, 0.03809, 17.19], [0.05562, 0.02353, 17.39], [0.07253, 0.03844, 15.9], [0.2413, 0.1981, 23.12], [0.06601, 0.03112, 21.41], [0.02344, 0, 18.22], [0.1353, 0.1085, 26.86], [0.198, 0.1697, 23.21], [0.05366, 0.03873, 16.33], [0.1267, 0.1385, 22.29], [0.08642, 0.1103, 21.84], [0.1428, 0.1114, 22.49], [0.1206, 0.118, 20.22]])
    
    training_outputs = np.array([[1, 1, 1, 1, 1, 1, 1, 1, 1, 1, 1, 1, 1, 1, 1, 1, 1, 1, 1, 0, 0, 0, 1, 1, 1, 1, 1, 1, 1, 1, 1, 1, 1, 1, 1, 1, 1, 0, 1, 1, 1, 1, 1, 1, 1, 1, 0, 1, 0, 0, 0, 0, 0, 1, 1, 0, 1, 1, 0, 0, 0, 0, 1, 0, 1, 1, 0, 0, 0, 0, 1, 0, 1, 1, 0, 1, 0, 1, 1, 0, 0, 0, 1, 1, 0, 1, 1, 1, 0, 0, 0, 1, 0, 0, 1, 1, 0, 0, 0, 1, 1, 0, 0, 0, 0, 1, 0, 0, 1, 0, 0, 0, 0, 0, 0, 0, 0, 1, 1, 1, 0, 1, 1, 0, 0, 0, 1, 1, 0, 1, 0, 1, 1, 0, 1, 1, 0, 0, 1, 0, 0, 1, 0, 0, 0, 0, 1, 0, 0, 0, 0, 0, 0, 0, 0, 0, 1, 0, 0, 0, 0, 1, 1, 0, 1, 0, 0, 1, 1, 0, 0, 1, 1, 0, 0, 0, 0, 1, 0, 0, 1, 1, 1, 0, 1, 0, 1, 0, 0, 0, 1, 0, 0, 1, 1, 0, 1, 1, 1, 1]]).T
    
    neural_network.train(training_inputs, training_outputs, 10000)

    print("Ending Weights After Training: ")
    print("self.weights ",self.weights)
    
    #Ans
    print(neural_network.think(np.array([0.04362, 0, 24.54])))
    if neural_network.think(np.array([0.04362, 0, 24.54]))<0.5:
        print("Benign") #
    else:
        print("Malignant!")
        
    print(neural_network.think(np.array([0.277, 0.3514, 29.33])))
    if neural_network.think(np.array([0.277, 0.3514, 29.33]))<0.5:
        print("Benign")
    else:
        print("Malignant!")#
        
        
    print(neural_network.think(np.array([0.1023, 0.09251, 28.08])))
    if neural_network.think(np.array([0.1023, 0.09251, 28.08]))<0.5:
        print("Benign") #
    else:
        print("Malignant!")        
        
    print(neural_network.think(np.array([0.1159, 0.2439, 22.39])))
    if neural_network.think(np.array([0.1159, 0.2439, 22.39]))<0.5:
        print("Benign")
    else:
        print("Malignant!") #

    print(neural_network.think(np.array([0.07773, 0.02172, 21.01])))
    if neural_network.think(np.array([0.04362, 0, 24.54]))<0.5:
        print("Benign") #
    else:
        print("Malignant!")
        
    print(neural_network.think(np.array([0.04701, 0.03709, 19.04])))
    if neural_network.think(np.array([0.04362, 0, 24.54]))<0.5:
        print("Benign") #
    else:
        print("Malignant!")
        
    print(neural_network.think(np.array([0.1413, 0.313, 17.33])))
    if neural_network.think(np.array([0.04362, 0, 24.54]))<0.5:
        print("Benign") #
    else:
        print("Malignant!")
        
    print(neural_network.think(np.array([0.05234, 0.03653, 16.49])))
    if neural_network.think(np.array([0.04362, 0, 24.54]))<0.5:
        print("Benign") #
    else:
        print("Malignant!")    
        
    print("Considering New Situation: ", 0.1299, 0.1191, 11.28)
    print("New Output data: ")
    print(neural_network.think(np.array([0.1299, 0.1191, 11.28])))
   
    if (neural_network.think(np.array([0.1299, 0.1191, 11.28])))<0.5:
        print("Benign")
    else:
        print("Malignant!")  #

    print("Considering New Situation2: ", 0.1511, 0.1544, 16.41)
    print("New Output data: ")
    print(neural_network.think(np.array([0.1511, 0.1544, 16.41])))
  
    
    if (neural_network.think(np.array(0.1511, 0.1544, 16.41])))<0.5:
        print("Benign")
    else:
        print("Malignant!")  #

    print("Considering New Situation2: ", 0.123, 0.1009, 24.99)
    print("New Output data: ")
    print(neural_network.think(np.array([0.123, 0.1009, 24.99])))
    if (neural_network.think(np.array([0.123, 0.1009, 24.99])<0.5:
        print("Benign")
    else:
        print("Malignant!")
